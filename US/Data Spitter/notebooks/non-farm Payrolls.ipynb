{
 "cells": [
  {
   "cell_type": "code",
   "execution_count": 42,
   "metadata": {},
   "outputs": [],
   "source": [
    "import requests\n",
    "import json\n",
    "import pandas as pd\n",
    "import pandas_datareader as pdr"
   ]
  },
  {
   "cell_type": "code",
   "execution_count": 71,
   "metadata": {
    "scrolled": true
   },
   "outputs": [],
   "source": [
    "headers = {'Content-type': 'application/json'}\n",
    "data = json.dumps({\"seriesid\": ['CES0000000001'],\"startyear\":\"2010\", \"endyear\":\"2020\"})\n",
    "p = requests.post('https://api.bls.gov/publicAPI/v2/timeseries/data/', data=data, headers=headers)\n",
    "json_data = json.loads(p.text)\n",
    "\n",
    "if json_data['status'] == 'REQUEST_NOT_PROCESSED':\n",
    "    x = pdr.DataReader('BLSE/CES0000000001', data_source='quandl', start='1939-01-31',api_key='rz7xyB845FPbzgMAwyg-')\n",
    "    \n",
    "else:\n",
    "    for series in json_data['Results']['series']:\n",
    "        l = list()\n",
    "        for item in series['data']:\n",
    "            year = item['year']\n",
    "            period = item['periodName']\n",
    "            date = year+'-'+period+'-'+'28'\n",
    "            value = int(item['value'])\n",
    "            l.append((date, value))\n",
    "\n",
    "    # creating DataFrame\n",
    "    x = pd.DataFrame(l, columns=[\"Date\", \"Value\"])\n",
    "    x['Date'] = pd.to_datetime(x['Date'])\n",
    "    x.set_index(keys=['Date'], inplace=True)\n",
    "\n",
    "x.sort_index(inplace=True)\n",
    "\n",
    "# Creating change in value column\n",
    "x['change'] = x['Value'].diff() * 1000\n",
    "\n",
    "# Creating % change column.\n",
    "x['% Change'] = x['Value'].pct_change() * 100"
   ]
  },
  {
   "cell_type": "code",
   "execution_count": 72,
   "metadata": {},
   "outputs": [
    {
     "data": {
      "text/html": [
       "<div>\n",
       "<style scoped>\n",
       "    .dataframe tbody tr th:only-of-type {\n",
       "        vertical-align: middle;\n",
       "    }\n",
       "\n",
       "    .dataframe tbody tr th {\n",
       "        vertical-align: top;\n",
       "    }\n",
       "\n",
       "    .dataframe thead th {\n",
       "        text-align: right;\n",
       "    }\n",
       "</style>\n",
       "<table border=\"1\" class=\"dataframe\">\n",
       "  <thead>\n",
       "    <tr style=\"text-align: right;\">\n",
       "      <th></th>\n",
       "      <th>Value</th>\n",
       "      <th>change</th>\n",
       "      <th>% Change</th>\n",
       "    </tr>\n",
       "    <tr>\n",
       "      <th>Date</th>\n",
       "      <th></th>\n",
       "      <th></th>\n",
       "      <th></th>\n",
       "    </tr>\n",
       "  </thead>\n",
       "  <tbody>\n",
       "    <tr>\n",
       "      <th>1939-01-31</th>\n",
       "      <td>29923.0</td>\n",
       "      <td>NaN</td>\n",
       "      <td>NaN</td>\n",
       "    </tr>\n",
       "    <tr>\n",
       "      <th>1939-02-28</th>\n",
       "      <td>30100.0</td>\n",
       "      <td>177000.0</td>\n",
       "      <td>0.591518</td>\n",
       "    </tr>\n",
       "    <tr>\n",
       "      <th>1939-03-31</th>\n",
       "      <td>30280.0</td>\n",
       "      <td>180000.0</td>\n",
       "      <td>0.598007</td>\n",
       "    </tr>\n",
       "    <tr>\n",
       "      <th>1939-04-30</th>\n",
       "      <td>30094.0</td>\n",
       "      <td>-186000.0</td>\n",
       "      <td>-0.614267</td>\n",
       "    </tr>\n",
       "    <tr>\n",
       "      <th>1939-05-31</th>\n",
       "      <td>30299.0</td>\n",
       "      <td>205000.0</td>\n",
       "      <td>0.681199</td>\n",
       "    </tr>\n",
       "    <tr>\n",
       "      <th>...</th>\n",
       "      <td>...</td>\n",
       "      <td>...</td>\n",
       "      <td>...</td>\n",
       "    </tr>\n",
       "    <tr>\n",
       "      <th>2020-02-29</th>\n",
       "      <td>152463.0</td>\n",
       "      <td>251000.0</td>\n",
       "      <td>0.164902</td>\n",
       "    </tr>\n",
       "    <tr>\n",
       "      <th>2020-03-31</th>\n",
       "      <td>151090.0</td>\n",
       "      <td>-1373000.0</td>\n",
       "      <td>-0.900546</td>\n",
       "    </tr>\n",
       "    <tr>\n",
       "      <th>2020-04-30</th>\n",
       "      <td>130303.0</td>\n",
       "      <td>-20787000.0</td>\n",
       "      <td>-13.758025</td>\n",
       "    </tr>\n",
       "    <tr>\n",
       "      <th>2020-05-31</th>\n",
       "      <td>133002.0</td>\n",
       "      <td>2699000.0</td>\n",
       "      <td>2.071326</td>\n",
       "    </tr>\n",
       "    <tr>\n",
       "      <th>2020-06-30</th>\n",
       "      <td>137802.0</td>\n",
       "      <td>4800000.0</td>\n",
       "      <td>3.608968</td>\n",
       "    </tr>\n",
       "  </tbody>\n",
       "</table>\n",
       "<p>978 rows × 3 columns</p>\n",
       "</div>"
      ],
      "text/plain": [
       "               Value      change   % Change\n",
       "Date                                       \n",
       "1939-01-31   29923.0         NaN        NaN\n",
       "1939-02-28   30100.0    177000.0   0.591518\n",
       "1939-03-31   30280.0    180000.0   0.598007\n",
       "1939-04-30   30094.0   -186000.0  -0.614267\n",
       "1939-05-31   30299.0    205000.0   0.681199\n",
       "...              ...         ...        ...\n",
       "2020-02-29  152463.0    251000.0   0.164902\n",
       "2020-03-31  151090.0  -1373000.0  -0.900546\n",
       "2020-04-30  130303.0 -20787000.0 -13.758025\n",
       "2020-05-31  133002.0   2699000.0   2.071326\n",
       "2020-06-30  137802.0   4800000.0   3.608968\n",
       "\n",
       "[978 rows x 3 columns]"
      ]
     },
     "execution_count": 72,
     "metadata": {},
     "output_type": "execute_result"
    }
   ],
   "source": [
    "x"
   ]
  },
  {
   "cell_type": "code",
   "execution_count": 70,
   "metadata": {},
   "outputs": [],
   "source": [
    "x.to_csv('nonFarm payroll (06-20).csv')"
   ]
  },
  {
   "cell_type": "code",
   "execution_count": 56,
   "metadata": {},
   "outputs": [
    {
     "data": {
      "text/plain": [
       "<matplotlib.axes._subplots.AxesSubplot at 0x17767e48>"
      ]
     },
     "execution_count": 56,
     "metadata": {},
     "output_type": "execute_result"
    },
    {
     "data": {
      "image/png": "[encoded data removed]",
      "text/plain": [
       "<Figure size 720x432 with 1 Axes>"
      ]
     },
     "metadata": {
      "needs_background": "light"
     },
     "output_type": "display_data"
    }
   ],
   "source": [
    "x['% Change'].hist(bins=33, figsize=(10, 6))"
   ]
  },
  {
   "cell_type": "code",
   "execution_count": null,
   "metadata": {},
   "outputs": [],
   "source": []
  }
 ],
 "metadata": {
  "kernelspec": {
   "display_name": "Python 3",
   "language": "python",
   "name": "python3"
  },
  "language_info": {
   "codemirror_mode": {
    "name": "ipython",
    "version": 3
   },
   "file_extension": ".py",
   "mimetype": "text/x-python",
   "name": "python",
   "nbconvert_exporter": "python",
   "pygments_lexer": "ipython3",
   "version": "3.7.6"
  }
 },
 "nbformat": 4,
 "nbformat_minor": 2
}
